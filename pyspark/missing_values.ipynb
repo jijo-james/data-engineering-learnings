{
 "cells": [
  {
   "cell_type": "markdown",
   "id": "1183ab4d-0700-442b-b70b-0704c31a845a",
   "metadata": {},
   "source": [
    "# Handing Missing Values"
   ]
  },
  {
   "cell_type": "code",
   "execution_count": null,
   "id": "7b088971-ed44-41b0-9fcf-3434c5c55a77",
   "metadata": {},
   "outputs": [],
   "source": [
    "from pyspark.sql import SparkSession\n",
    "spark = SparkSession."
   ]
  }
 ],
 "metadata": {
  "kernelspec": {
   "display_name": "Python 3 (ipykernel)",
   "language": "python",
   "name": "python3"
  },
  "language_info": {
   "codemirror_mode": {
    "name": "ipython",
    "version": 3
   },
   "file_extension": ".py",
   "mimetype": "text/x-python",
   "name": "python",
   "nbconvert_exporter": "python",
   "pygments_lexer": "ipython3",
   "version": "3.11.2"
  }
 },
 "nbformat": 4,
 "nbformat_minor": 5
}
