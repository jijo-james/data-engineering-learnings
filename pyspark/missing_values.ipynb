{
 "cells": [
  {
   "cell_type": "markdown",
   "id": "1183ab4d-0700-442b-b70b-0704c31a845a",
   "metadata": {},
   "source": [
    "# Handing Missing Values"
   ]
  },
  {
   "cell_type": "code",
   "execution_count": 2,
   "id": "7b088971-ed44-41b0-9fcf-3434c5c55a77",
   "metadata": {
    "tags": []
   },
   "outputs": [],
   "source": [
    "from pyspark.sql import SparkSession\n",
    "spark = SparkSession.builder.appName('MissingValues').getOrCreate()"
   ]
  },
  {
   "cell_type": "code",
   "execution_count": 6,
   "id": "53b7fe4a-2c13-4315-8157-cad2e28be9ff",
   "metadata": {
    "tags": []
   },
   "outputs": [],
   "source": [
    "df_pyspark = spark.read.csv('data/test2.csv', header=True, inferSchema=True)"
   ]
  },
  {
   "cell_type": "code",
   "execution_count": 7,
   "id": "42f234f2-3de7-4f51-ab04-e92cb63c18d5",
   "metadata": {
    "tags": []
   },
   "outputs": [
    {
     "name": "stdout",
     "output_type": "stream",
     "text": [
      "+-------+----+----------+------+\n",
      "|   name| age|experience|salary|\n",
      "+-------+----+----------+------+\n",
      "|   Jijo|  25|         4| 30000|\n",
      "|Adharsh|  25|         5| 25000|\n",
      "| Sajjad|  23|         2| 20000|\n",
      "|  Allen|  23|         3| 20000|\n",
      "| Nikhil|  23|         1| 15000|\n",
      "|Abhinav|  26|         3| 18000|\n",
      "| Deepak|null|      null| 40000|\n",
      "|   null|  34|        10| 38000|\n",
      "|   null|  36|      null|  null|\n",
      "+-------+----+----------+------+\n",
      "\n"
     ]
    }
   ],
   "source": [
    "df_pyspark.show()"
   ]
  },
  {
   "cell_type": "code",
   "execution_count": 8,
   "id": "1010cfbc-52f9-489c-8694-3ed8b521882d",
   "metadata": {
    "tags": []
   },
   "outputs": [
    {
     "name": "stdout",
     "output_type": "stream",
     "text": [
      "+-------+---+----------+------+\n",
      "|   name|age|experience|salary|\n",
      "+-------+---+----------+------+\n",
      "|   Jijo| 25|         4| 30000|\n",
      "|Adharsh| 25|         5| 25000|\n",
      "| Sajjad| 23|         2| 20000|\n",
      "|  Allen| 23|         3| 20000|\n",
      "| Nikhil| 23|         1| 15000|\n",
      "|Abhinav| 26|         3| 18000|\n",
      "+-------+---+----------+------+\n",
      "\n"
     ]
    }
   ],
   "source": [
    "df_pyspark.na.drop().show()"
   ]
  },
  {
   "cell_type": "markdown",
   "id": "cbeffeec-8f36-406d-b11b-44d245bb316a",
   "metadata": {},
   "source": [
    "If how is any it drops the rows having atleast one null value, if how is all it drops rows with all null values\n",
    "\n",
    "thresh is for setting threshold for number of non null values"
   ]
  },
  {
   "cell_type": "code",
   "execution_count": 9,
   "id": "cc197434-68f7-466d-9f67-546df677b579",
   "metadata": {
    "tags": []
   },
   "outputs": [
    {
     "name": "stdout",
     "output_type": "stream",
     "text": [
      "+-------+----+----------+------+\n",
      "|   name| age|experience|salary|\n",
      "+-------+----+----------+------+\n",
      "|   Jijo|  25|         4| 30000|\n",
      "|Adharsh|  25|         5| 25000|\n",
      "| Sajjad|  23|         2| 20000|\n",
      "|  Allen|  23|         3| 20000|\n",
      "| Nikhil|  23|         1| 15000|\n",
      "|Abhinav|  26|         3| 18000|\n",
      "| Deepak|null|      null| 40000|\n",
      "|   null|  34|        10| 38000|\n",
      "+-------+----+----------+------+\n",
      "\n"
     ]
    }
   ],
   "source": [
    "df_pyspark.na.drop(how=\"any\", thresh=2).show()"
   ]
  },
  {
   "cell_type": "markdown",
   "id": "cadf3ecb-cf3f-477f-85de-d59dbe34478a",
   "metadata": {},
   "source": [
    "subset contains column names, if the column have any null values it deletes the entire record"
   ]
  },
  {
   "cell_type": "code",
   "execution_count": 11,
   "id": "01d1486c-d65a-4c1d-aa9a-86039d64fac3",
   "metadata": {
    "tags": []
   },
   "outputs": [
    {
     "name": "stdout",
     "output_type": "stream",
     "text": [
      "+-------+---+----------+------+\n",
      "|   name|age|experience|salary|\n",
      "+-------+---+----------+------+\n",
      "|   Jijo| 25|         4| 30000|\n",
      "|Adharsh| 25|         5| 25000|\n",
      "| Sajjad| 23|         2| 20000|\n",
      "|  Allen| 23|         3| 20000|\n",
      "| Nikhil| 23|         1| 15000|\n",
      "|Abhinav| 26|         3| 18000|\n",
      "|   null| 34|        10| 38000|\n",
      "|   null| 36|      null|  null|\n",
      "+-------+---+----------+------+\n",
      "\n"
     ]
    }
   ],
   "source": [
    "df_pyspark.na.drop(how=\"any\", subset=['age']).show()"
   ]
  },
  {
   "cell_type": "markdown",
   "id": "303578c8-706a-412f-8589-59b3e7ba3a4a",
   "metadata": {},
   "source": [
    "if we pass one value it will only replace the null values which are having the same datatype(in a column which contains values from that particular datatype)\n",
    "\n",
    "Second parameter is column name"
   ]
  },
  {
   "cell_type": "code",
   "execution_count": 23,
   "id": "1f29f633-7ee9-42df-832b-85b32d33c82f",
   "metadata": {
    "tags": []
   },
   "outputs": [
    {
     "name": "stdout",
     "output_type": "stream",
     "text": [
      "+-------+----+----------+------+\n",
      "|   name| age|experience|salary|\n",
      "+-------+----+----------+------+\n",
      "|   Jijo|  25|         4| 30000|\n",
      "|Adharsh|  25|         5| 25000|\n",
      "| Sajjad|  23|         2| 20000|\n",
      "|  Allen|  23|         3| 20000|\n",
      "| Nikhil|  23|         1| 15000|\n",
      "|Abhinav|  26|         3| 18000|\n",
      "| Deepak|null|         0| 40000|\n",
      "|   null|  34|        10| 38000|\n",
      "|   null|  36|         0|  null|\n",
      "+-------+----+----------+------+\n",
      "\n"
     ]
    }
   ],
   "source": [
    "df_pyspark.na.fill(0, 'experience').show()"
   ]
  },
  {
   "cell_type": "code",
   "execution_count": null,
   "id": "1f2c934f-9a9b-4f4a-9fb4-45e324c8a467",
   "metadata": {},
   "outputs": [],
   "source": []
  }
 ],
 "metadata": {
  "kernelspec": {
   "display_name": "Python 3 (ipykernel)",
   "language": "python",
   "name": "python3"
  },
  "language_info": {
   "codemirror_mode": {
    "name": "ipython",
    "version": 3
   },
   "file_extension": ".py",
   "mimetype": "text/x-python",
   "name": "python",
   "nbconvert_exporter": "python",
   "pygments_lexer": "ipython3",
   "version": "3.11.2"
  }
 },
 "nbformat": 4,
 "nbformat_minor": 5
}
