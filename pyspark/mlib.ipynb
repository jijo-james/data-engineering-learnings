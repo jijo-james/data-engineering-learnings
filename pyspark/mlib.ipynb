{
 "cells": [
  {
   "cell_type": "markdown",
   "id": "6d9dc374-4629-4787-8f09-b4e20f0bc293",
   "metadata": {},
   "source": [
    "### PySpark implementation of Machine Learning"
   ]
  },
  {
   "cell_type": "code",
   "execution_count": 18,
   "id": "bb44b159-7f70-4dc9-b5b5-8c61125e9995",
   "metadata": {
    "tags": []
   },
   "outputs": [],
   "source": [
    "from pyspark.sql import SparkSession"
   ]
  },
  {
   "cell_type": "code",
   "execution_count": 19,
   "id": "268f68ca-9300-44b4-86ad-bdc6485072b5",
   "metadata": {
    "tags": []
   },
   "outputs": [],
   "source": [
    "spark = SparkSession.builder.appName('Missing').getOrCreate()"
   ]
  },
  {
   "cell_type": "code",
   "execution_count": 20,
   "id": "ea4d15fa-b4be-4a5e-810a-7b04abaca426",
   "metadata": {
    "tags": []
   },
   "outputs": [
    {
     "data": {
      "text/plain": [
       "'/mnt/sda7/projects/ds/data-engineering/learnings/pyspark'"
      ]
     },
     "execution_count": 20,
     "metadata": {},
     "output_type": "execute_result"
    }
   ],
   "source": [
    "pwd"
   ]
  },
  {
   "cell_type": "code",
   "execution_count": 27,
   "id": "cc545ce4-8294-4e58-bcd2-c826ddd06b8e",
   "metadata": {
    "tags": []
   },
   "outputs": [],
   "source": [
    "training = spark.read.csv('test2.csv', header=True, inferSchema=True)"
   ]
  },
  {
   "cell_type": "code",
   "execution_count": 28,
   "id": "8f5f1436-a450-4406-b2d3-7752ebbb6d2d",
   "metadata": {
    "tags": []
   },
   "outputs": [
    {
     "name": "stdout",
     "output_type": "stream",
     "text": [
      "+-------+---+----------+------+\n",
      "|   name|age|experience|salary|\n",
      "+-------+---+----------+------+\n",
      "|   Jijo| 25|         4| 30000|\n",
      "|Adharsh| 25|         5| 25000|\n",
      "| Sajjad| 23|         2| 20000|\n",
      "|  Allen| 23|         3| 20000|\n",
      "| Nikhil| 23|         1| 15000|\n",
      "|Abhinav| 26|         3| 18000|\n",
      "+-------+---+----------+------+\n",
      "\n"
     ]
    }
   ],
   "source": [
    "training.show()"
   ]
  },
  {
   "cell_type": "code",
   "execution_count": 29,
   "id": "4ecbc5c2-6003-4fde-bb75-a6629ba3b292",
   "metadata": {
    "tags": []
   },
   "outputs": [
    {
     "name": "stdout",
     "output_type": "stream",
     "text": [
      "root\n",
      " |-- name: string (nullable = true)\n",
      " |-- age: integer (nullable = true)\n",
      " |-- experience: integer (nullable = true)\n",
      " |-- salary: integer (nullable = true)\n",
      "\n"
     ]
    }
   ],
   "source": [
    "training.printSchema()"
   ]
  },
  {
   "cell_type": "code",
   "execution_count": 31,
   "id": "824ef693-b3b5-43ca-8586-824c25664c1e",
   "metadata": {
    "tags": []
   },
   "outputs": [
    {
     "data": {
      "text/plain": [
       "['name', 'age', 'experience', 'salary']"
      ]
     },
     "execution_count": 31,
     "metadata": {},
     "output_type": "execute_result"
    }
   ],
   "source": [
    "training.columns"
   ]
  },
  {
   "cell_type": "code",
   "execution_count": 34,
   "id": "fe20d692-ce06-4139-b6c4-ab01ea8dd818",
   "metadata": {
    "tags": []
   },
   "outputs": [],
   "source": [
    "from pyspark.ml.feature import VectorAssembler\n",
    "featureassembler = VectorAssembler(inputCols=[\"age\",\"experience\"], outputCol=\"independent feature\")"
   ]
  },
  {
   "cell_type": "code",
   "execution_count": 35,
   "id": "ceaf9bd3-f032-459f-852a-e57c6e53cac7",
   "metadata": {
    "tags": []
   },
   "outputs": [],
   "source": [
    "output = featureassembler.transform(training)"
   ]
  },
  {
   "cell_type": "code",
   "execution_count": 36,
   "id": "0c73b2ce-b241-4ecc-b4b0-21d12fb053e9",
   "metadata": {
    "tags": []
   },
   "outputs": [
    {
     "name": "stdout",
     "output_type": "stream",
     "text": [
      "+-------+---+----------+------+-------------------+\n",
      "|   name|age|experience|salary|independent feature|\n",
      "+-------+---+----------+------+-------------------+\n",
      "|   Jijo| 25|         4| 30000|         [25.0,4.0]|\n",
      "|Adharsh| 25|         5| 25000|         [25.0,5.0]|\n",
      "| Sajjad| 23|         2| 20000|         [23.0,2.0]|\n",
      "|  Allen| 23|         3| 20000|         [23.0,3.0]|\n",
      "| Nikhil| 23|         1| 15000|         [23.0,1.0]|\n",
      "|Abhinav| 26|         3| 18000|         [26.0,3.0]|\n",
      "+-------+---+----------+------+-------------------+\n",
      "\n"
     ]
    }
   ],
   "source": [
    "output.show()"
   ]
  },
  {
   "cell_type": "code",
   "execution_count": 37,
   "id": "4fe7e07f-07a2-4eb6-af30-38b87f8e0865",
   "metadata": {
    "tags": []
   },
   "outputs": [
    {
     "data": {
      "text/plain": [
       "['name', 'age', 'experience', 'salary', 'independent feature']"
      ]
     },
     "execution_count": 37,
     "metadata": {},
     "output_type": "execute_result"
    }
   ],
   "source": [
    "output.columns"
   ]
  },
  {
   "cell_type": "code",
   "execution_count": 38,
   "id": "be0083a2-4a47-4931-9728-cec487220c30",
   "metadata": {
    "tags": []
   },
   "outputs": [],
   "source": [
    "finalized_data = output.select(\"independent feature\", \"salary\")"
   ]
  },
  {
   "cell_type": "code",
   "execution_count": 39,
   "id": "c9eb6b82-d1c8-41bf-bf10-79968bb1d6b7",
   "metadata": {
    "tags": []
   },
   "outputs": [
    {
     "name": "stdout",
     "output_type": "stream",
     "text": [
      "+-------------------+------+\n",
      "|independent feature|salary|\n",
      "+-------------------+------+\n",
      "|         [25.0,4.0]| 30000|\n",
      "|         [25.0,5.0]| 25000|\n",
      "|         [23.0,2.0]| 20000|\n",
      "|         [23.0,3.0]| 20000|\n",
      "|         [23.0,1.0]| 15000|\n",
      "|         [26.0,3.0]| 18000|\n",
      "+-------------------+------+\n",
      "\n"
     ]
    }
   ],
   "source": [
    "finalized_data.show()"
   ]
  },
  {
   "cell_type": "code",
   "execution_count": 40,
   "id": "3453caa1-aedc-47d6-91dd-94f3836814b4",
   "metadata": {
    "tags": []
   },
   "outputs": [],
   "source": [
    "from pyspark.ml.regression import LinearRegression"
   ]
  },
  {
   "cell_type": "code",
   "execution_count": 42,
   "id": "58a77701-42cd-432e-848b-159014067955",
   "metadata": {
    "tags": []
   },
   "outputs": [],
   "source": [
    "train_data, test_data = finalized_data.randomSplit([.75, .25])"
   ]
  },
  {
   "cell_type": "code",
   "execution_count": 43,
   "id": "484aad87-1b4e-4c0a-bde0-b98d823f39a5",
   "metadata": {
    "tags": []
   },
   "outputs": [],
   "source": [
    "regressor = LinearRegression(featuresCol='independent feature', labelCol=\"salary\")"
   ]
  },
  {
   "cell_type": "code",
   "execution_count": null,
   "id": "de8decec-939c-44be-98eb-7456a9ae4a3b",
   "metadata": {
    "tags": []
   },
   "outputs": [],
   "source": [
    "regressor = regressor.fit(train_data)"
   ]
  },
  {
   "cell_type": "code",
   "execution_count": 46,
   "id": "8d816358-09e7-40a2-b106-e46d2335b5f7",
   "metadata": {
    "tags": []
   },
   "outputs": [
    {
     "data": {
      "text/plain": [
       "DenseVector([7500.0, -5000.0])"
      ]
     },
     "execution_count": 46,
     "metadata": {},
     "output_type": "execute_result"
    }
   ],
   "source": [
    "regressor.coefficients"
   ]
  },
  {
   "cell_type": "code",
   "execution_count": 48,
   "id": "d1460007-cd89-47e0-835e-cd37b975b156",
   "metadata": {
    "tags": []
   },
   "outputs": [
    {
     "data": {
      "text/plain": [
       "-137500.0000000731"
      ]
     },
     "execution_count": 48,
     "metadata": {},
     "output_type": "execute_result"
    }
   ],
   "source": [
    "regressor.intercept"
   ]
  },
  {
   "cell_type": "code",
   "execution_count": 49,
   "id": "aca8d8bb-4d61-439e-87db-bd84861b3baa",
   "metadata": {
    "tags": []
   },
   "outputs": [],
   "source": [
    "pred_results = regressor.evaluate(test_data)"
   ]
  },
  {
   "cell_type": "code",
   "execution_count": 50,
   "id": "c8e64b3d-eb43-4d75-81ce-1264d2116425",
   "metadata": {
    "tags": []
   },
   "outputs": [
    {
     "name": "stdout",
     "output_type": "stream",
     "text": [
      "+-------------------+------+------------------+\n",
      "|independent feature|salary|        prediction|\n",
      "+-------------------+------+------------------+\n",
      "|         [23.0,1.0]| 15000|30000.000000006316|\n",
      "|         [23.0,2.0]| 20000| 25000.00000000262|\n",
      "|         [26.0,3.0]| 18000| 42500.00000000972|\n",
      "+-------------------+------+------------------+\n",
      "\n"
     ]
    }
   ],
   "source": [
    "pred_results.predictions.show()"
   ]
  },
  {
   "cell_type": "code",
   "execution_count": 53,
   "id": "a51a3454-7560-43d1-841b-f0497a0c3279",
   "metadata": {
    "tags": []
   },
   "outputs": [
    {
     "data": {
      "text/plain": [
       "(14833.333333339551, 283416666.66689736)"
      ]
     },
     "execution_count": 53,
     "metadata": {},
     "output_type": "execute_result"
    }
   ],
   "source": [
    "pred_results.meanAbsoluteError, pred_results.meanSquaredError"
   ]
  },
  {
   "cell_type": "code",
   "execution_count": null,
   "id": "0efdb26a-c9e9-494b-877e-a60108924eea",
   "metadata": {},
   "outputs": [],
   "source": []
  }
 ],
 "metadata": {
  "kernelspec": {
   "display_name": "Python 3 (ipykernel)",
   "language": "python",
   "name": "python3"
  },
  "language_info": {
   "codemirror_mode": {
    "name": "ipython",
    "version": 3
   },
   "file_extension": ".py",
   "mimetype": "text/x-python",
   "name": "python",
   "nbconvert_exporter": "python",
   "pygments_lexer": "ipython3",
   "version": "3.11.2"
  }
 },
 "nbformat": 4,
 "nbformat_minor": 5
}
