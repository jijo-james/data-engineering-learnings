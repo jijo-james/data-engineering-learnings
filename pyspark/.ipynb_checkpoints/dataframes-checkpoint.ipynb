{
 "cells": [
  {
   "cell_type": "markdown",
   "id": "69511fa0-26de-4d78-b1ea-edc4b42956a9",
   "metadata": {
    "tags": []
   },
   "source": [
    "# PySpark DataFrames"
   ]
  },
  {
   "cell_type": "code",
   "execution_count": 5,
   "id": "f11d5990-967a-4e8f-b818-7120087249dd",
   "metadata": {
    "tags": []
   },
   "outputs": [],
   "source": [
    "from pyspark.sql import SparkSession"
   ]
  },
  {
   "cell_type": "code",
   "execution_count": 41,
   "id": "7d232734-082d-42bd-81b8-35b4a99d2d64",
   "metadata": {
    "tags": []
   },
   "outputs": [],
   "source": [
    "spark = SparkSession.builder.appName('DataFrame').getOrCreate()"
   ]
  },
  {
   "cell_type": "code",
   "execution_count": 7,
   "id": "8949e8f8-4fc0-4a9c-8ed8-e9bb377434e8",
   "metadata": {
    "tags": []
   },
   "outputs": [
    {
     "data": {
      "text/html": [
       "\n",
       "            <div>\n",
       "                <p><b>SparkSession - in-memory</b></p>\n",
       "                \n",
       "        <div>\n",
       "            <p><b>SparkContext</b></p>\n",
       "\n",
       "            <p><a href=\"http://fedora:4041\">Spark UI</a></p>\n",
       "\n",
       "            <dl>\n",
       "              <dt>Version</dt>\n",
       "                <dd><code>v3.3.2</code></dd>\n",
       "              <dt>Master</dt>\n",
       "                <dd><code>local[*]</code></dd>\n",
       "              <dt>AppName</dt>\n",
       "                <dd><code>DataFrame</code></dd>\n",
       "            </dl>\n",
       "        </div>\n",
       "        \n",
       "            </div>\n",
       "        "
      ],
      "text/plain": [
       "<pyspark.sql.session.SparkSession at 0x7f80ae57c8d0>"
      ]
     },
     "execution_count": 7,
     "metadata": {},
     "output_type": "execute_result"
    }
   ],
   "source": [
    "spark"
   ]
  },
  {
   "cell_type": "code",
   "execution_count": 15,
   "id": "9b1e98ec-6e73-4e63-86a8-d44b917911c4",
   "metadata": {
    "tags": []
   },
   "outputs": [],
   "source": [
    "df_pyspark = spark.read.option('header','true').csv('data/sample_data.csv')"
   ]
  },
  {
   "cell_type": "code",
   "execution_count": 16,
   "id": "ed70e06f-c994-4eef-8c0e-676745097522",
   "metadata": {
    "tags": []
   },
   "outputs": [
    {
     "name": "stdout",
     "output_type": "stream",
     "text": [
      "+-------+---+----------+\n",
      "|   name|age|experience|\n",
      "+-------+---+----------+\n",
      "|   Jijo| 25|         4|\n",
      "|Adharsh| 25|         5|\n",
      "| Sajjad| 23|         2|\n",
      "+-------+---+----------+\n",
      "\n"
     ]
    }
   ],
   "source": [
    "df_pyspark.show()"
   ]
  },
  {
   "cell_type": "code",
   "execution_count": 17,
   "id": "dae7a288-c070-4214-8253-0c9854275cf2",
   "metadata": {
    "tags": []
   },
   "outputs": [
    {
     "name": "stdout",
     "output_type": "stream",
     "text": [
      "root\n",
      " |-- name: string (nullable = true)\n",
      " |-- age: string (nullable = true)\n",
      " |-- experience: string (nullable = true)\n",
      "\n"
     ]
    }
   ],
   "source": [
    "df_pyspark.printSchema()"
   ]
  },
  {
   "cell_type": "markdown",
   "id": "62ccea2f-7e8a-4baf-8645-ae16e0ec0d9d",
   "metadata": {},
   "source": [
    "The above code shows age and experince as strings instead of integers. we can overcome this by the following method"
   ]
  },
  {
   "cell_type": "code",
   "execution_count": 19,
   "id": "f6798000-e3ed-4c48-96c0-d0ca770ab4c2",
   "metadata": {
    "tags": []
   },
   "outputs": [],
   "source": [
    "# read dataset with setting schema\n",
    "df_pyspark = spark.read.option('header','true').csv('data/sample_data.csv', inferSchema=True)"
   ]
  },
  {
   "cell_type": "code",
   "execution_count": 20,
   "id": "4dfd1a3a-f366-40de-b94f-8296a48174c6",
   "metadata": {
    "tags": []
   },
   "outputs": [
    {
     "name": "stdout",
     "output_type": "stream",
     "text": [
      "root\n",
      " |-- name: string (nullable = true)\n",
      " |-- age: integer (nullable = true)\n",
      " |-- experience: integer (nullable = true)\n",
      "\n"
     ]
    }
   ],
   "source": [
    "df_pyspark.printSchema()"
   ]
  },
  {
   "cell_type": "code",
   "execution_count": 22,
   "id": "6fc4633f-6fa1-464c-a178-a4d9268a4e4e",
   "metadata": {
    "tags": []
   },
   "outputs": [],
   "source": [
    "# this method of reading dataset without option  \n",
    "df_pyspark = spark.read.csv('data/sample_data.csv', header=True, inferSchema=True)"
   ]
  },
  {
   "cell_type": "code",
   "execution_count": 23,
   "id": "196ef0a6-662d-4b3c-922b-bd46a1442d17",
   "metadata": {
    "tags": []
   },
   "outputs": [
    {
     "name": "stdout",
     "output_type": "stream",
     "text": [
      "root\n",
      " |-- name: string (nullable = true)\n",
      " |-- age: integer (nullable = true)\n",
      " |-- experience: integer (nullable = true)\n",
      "\n"
     ]
    }
   ],
   "source": [
    "df_pyspark.printSchema()"
   ]
  },
  {
   "cell_type": "code",
   "execution_count": 24,
   "id": "e45faf81-6983-4e36-91db-56a0c35b82f4",
   "metadata": {
    "tags": []
   },
   "outputs": [
    {
     "data": {
      "text/plain": [
       "['name', 'age', 'experience']"
      ]
     },
     "execution_count": 24,
     "metadata": {},
     "output_type": "execute_result"
    }
   ],
   "source": [
    "df_pyspark.columns"
   ]
  },
  {
   "cell_type": "code",
   "execution_count": 25,
   "id": "6d82fbdc-bc5f-4be4-971c-b6dba20904ce",
   "metadata": {
    "tags": []
   },
   "outputs": [
    {
     "data": {
      "text/plain": [
       "[Row(name='Jijo', age=25, experience=4),\n",
       " Row(name='Adharsh', age=25, experience=5)]"
      ]
     },
     "execution_count": 25,
     "metadata": {},
     "output_type": "execute_result"
    }
   ],
   "source": [
    "df_pyspark.head(2)"
   ]
  },
  {
   "cell_type": "code",
   "execution_count": 29,
   "id": "f0c72154-efdb-455d-aac5-1ad5927cf2d6",
   "metadata": {
    "tags": []
   },
   "outputs": [
    {
     "data": {
      "text/plain": [
       "DataFrame[name: string]"
      ]
     },
     "execution_count": 29,
     "metadata": {},
     "output_type": "execute_result"
    }
   ],
   "source": [
    "df_pyspark.select('name')"
   ]
  },
  {
   "cell_type": "code",
   "execution_count": 30,
   "id": "63119076-2b4f-41b3-80e0-d33d5e3d6e6a",
   "metadata": {
    "tags": []
   },
   "outputs": [
    {
     "name": "stdout",
     "output_type": "stream",
     "text": [
      "+-------+\n",
      "|   name|\n",
      "+-------+\n",
      "|   Jijo|\n",
      "|Adharsh|\n",
      "| Sajjad|\n",
      "+-------+\n",
      "\n"
     ]
    }
   ],
   "source": [
    "df_pyspark.select('name').show()"
   ]
  },
  {
   "cell_type": "code",
   "execution_count": 32,
   "id": "230cc033-0bf8-4456-9d74-b47c7d8bcb00",
   "metadata": {
    "tags": []
   },
   "outputs": [
    {
     "name": "stdout",
     "output_type": "stream",
     "text": [
      "+-------+---+\n",
      "|   name|Age|\n",
      "+-------+---+\n",
      "|   Jijo| 25|\n",
      "|Adharsh| 25|\n",
      "| Sajjad| 23|\n",
      "+-------+---+\n",
      "\n"
     ]
    }
   ],
   "source": [
    "# for multiple columns pass column names as list(column names are case insensitive)\n",
    "df_pyspark.select(['name','Age']).show()"
   ]
  },
  {
   "cell_type": "code",
   "execution_count": 34,
   "id": "9ba6d2b3-f9e8-4600-80df-fc7d14fece5b",
   "metadata": {
    "tags": []
   },
   "outputs": [
    {
     "data": {
      "text/plain": [
       "DataFrame[summary: string, name: string, age: string, experience: string]"
      ]
     },
     "execution_count": 34,
     "metadata": {},
     "output_type": "execute_result"
    }
   ],
   "source": [
    "df_pyspark.describe()"
   ]
  },
  {
   "cell_type": "code",
   "execution_count": 35,
   "id": "c659caa0-433d-472e-ae2c-d07be79269ca",
   "metadata": {
    "tags": []
   },
   "outputs": [
    {
     "name": "stdout",
     "output_type": "stream",
     "text": [
      "+-------+-------+------------------+------------------+\n",
      "|summary|   name|               age|        experience|\n",
      "+-------+-------+------------------+------------------+\n",
      "|  count|      3|                 3|                 3|\n",
      "|   mean|   null|24.333333333333332|3.6666666666666665|\n",
      "| stddev|   null|1.1547005383792517|1.5275252316519465|\n",
      "|    min|Adharsh|                23|                 2|\n",
      "|    max| Sajjad|                25|                 5|\n",
      "+-------+-------+------------------+------------------+\n",
      "\n"
     ]
    }
   ],
   "source": [
    "df_pyspark.describe().show()"
   ]
  },
  {
   "cell_type": "code",
   "execution_count": 36,
   "id": "077095d6-da00-456a-8fb2-358bebb81952",
   "metadata": {
    "tags": []
   },
   "outputs": [],
   "source": [
    "# adding columns to a df\n",
    "df_pyspark = df_pyspark.withColumn('age after 5 years', df_pyspark['age']+5)"
   ]
  },
  {
   "cell_type": "code",
   "execution_count": 37,
   "id": "5a514b51-86dc-48c0-9ed4-5f6d92638613",
   "metadata": {
    "tags": []
   },
   "outputs": [
    {
     "name": "stdout",
     "output_type": "stream",
     "text": [
      "+-------+---+----------+-----------------+\n",
      "|   name|age|experience|age after 5 years|\n",
      "+-------+---+----------+-----------------+\n",
      "|   Jijo| 25|         4|               30|\n",
      "|Adharsh| 25|         5|               30|\n",
      "| Sajjad| 23|         2|               28|\n",
      "+-------+---+----------+-----------------+\n",
      "\n"
     ]
    }
   ],
   "source": [
    "df_pyspark.show()"
   ]
  },
  {
   "cell_type": "code",
   "execution_count": 38,
   "id": "df2b8be1-ce08-45fc-8f77-a7171b4636d3",
   "metadata": {
    "tags": []
   },
   "outputs": [],
   "source": [
    "# drop columns\n",
    "df_pyspark = df_pyspark.drop('age after 5 years')"
   ]
  },
  {
   "cell_type": "code",
   "execution_count": 39,
   "id": "205f139f-ad86-4eb6-825c-744adeb7af0b",
   "metadata": {
    "tags": []
   },
   "outputs": [
    {
     "name": "stdout",
     "output_type": "stream",
     "text": [
      "+-------+---+----------+\n",
      "|   name|age|experience|\n",
      "+-------+---+----------+\n",
      "|   Jijo| 25|         4|\n",
      "|Adharsh| 25|         5|\n",
      "| Sajjad| 23|         2|\n",
      "+-------+---+----------+\n",
      "\n"
     ]
    }
   ],
   "source": [
    "df_pyspark.show()"
   ]
  },
  {
   "cell_type": "code",
   "execution_count": 40,
   "id": "4e9f4ae0-4ae1-4971-822f-2639d9af807c",
   "metadata": {
    "tags": []
   },
   "outputs": [
    {
     "name": "stdout",
     "output_type": "stream",
     "text": [
      "+-------+---+----------+\n",
      "| rename|age|experience|\n",
      "+-------+---+----------+\n",
      "|   Jijo| 25|         4|\n",
      "|Adharsh| 25|         5|\n",
      "| Sajjad| 23|         2|\n",
      "+-------+---+----------+\n",
      "\n"
     ]
    }
   ],
   "source": [
    "df_pyspark.withColumnRenamed('name', 'rename').show()"
   ]
  },
  {
   "cell_type": "code",
   "execution_count": null,
   "id": "3b4bac97-ca28-41f8-a496-93a74ef8516f",
   "metadata": {},
   "outputs": [],
   "source": []
  }
 ],
 "metadata": {
  "kernelspec": {
   "display_name": "Python 3 (ipykernel)",
   "language": "python",
   "name": "python3"
  },
  "language_info": {
   "codemirror_mode": {
    "name": "ipython",
    "version": 3
   },
   "file_extension": ".py",
   "mimetype": "text/x-python",
   "name": "python",
   "nbconvert_exporter": "python",
   "pygments_lexer": "ipython3",
   "version": "3.11.2"
  }
 },
 "nbformat": 4,
 "nbformat_minor": 5
}
