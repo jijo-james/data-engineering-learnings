{
 "cells": [
  {
   "cell_type": "markdown",
   "id": "db2cbdb6-2dc2-4816-bd95-3defb9380aab",
   "metadata": {},
   "source": [
    "# Filter Operations"
   ]
  },
  {
   "cell_type": "code",
   "execution_count": 2,
   "id": "9bea4fb2-bb1c-4267-8712-61edbf7a62f0",
   "metadata": {
    "tags": []
   },
   "outputs": [],
   "source": [
    "from pyspark.sql import SparkSession\n",
    "spark = SparkSession.builder.appName('dataframe').getOrCreate()"
   ]
  },
  {
   "cell_type": "code",
   "execution_count": 4,
   "id": "71630977-0c31-42a6-9fe2-d555d5ca1df5",
   "metadata": {
    "tags": []
   },
   "outputs": [
    {
     "name": "stdout",
     "output_type": "stream",
     "text": [
      "+-------+----+----------+------+\n",
      "|   name| age|experience|salary|\n",
      "+-------+----+----------+------+\n",
      "|   Jijo|  25|         4| 30000|\n",
      "|Adharsh|  25|         5| 25000|\n",
      "| Sajjad|  23|         2| 20000|\n",
      "|  Allen|  23|         3| 20000|\n",
      "| Nikhil|  23|         1| 15000|\n",
      "|Abhinav|  26|         3| 18000|\n",
      "| Deepak|null|      null| 40000|\n",
      "|   null|  34|        10| 38000|\n",
      "|   null|  36|      null|  null|\n",
      "+-------+----+----------+------+\n",
      "\n"
     ]
    }
   ],
   "source": [
    "df_pyspark = spark.read.csv('data/test2.csv', header=True, inferSchema=True)\n",
    "df_pyspark.show()"
   ]
  },
  {
   "cell_type": "markdown",
   "id": "28a514f0-ebe8-4870-852f-28de0f65a65a",
   "metadata": {},
   "source": [
    "### Salary <= 20000"
   ]
  },
  {
   "cell_type": "code",
   "execution_count": 5,
   "id": "6a9bd9a8-60db-43d2-bb62-827d3fb11234",
   "metadata": {
    "tags": []
   },
   "outputs": [
    {
     "name": "stdout",
     "output_type": "stream",
     "text": [
      "+-------+---+----------+------+\n",
      "|   name|age|experience|salary|\n",
      "+-------+---+----------+------+\n",
      "| Sajjad| 23|         2| 20000|\n",
      "|  Allen| 23|         3| 20000|\n",
      "| Nikhil| 23|         1| 15000|\n",
      "|Abhinav| 26|         3| 18000|\n",
      "+-------+---+----------+------+\n",
      "\n"
     ]
    }
   ],
   "source": [
    "df_pyspark.filter('salary<=20000').show()"
   ]
  },
  {
   "cell_type": "code",
   "execution_count": 6,
   "id": "bb817a6d-9f9b-4c03-8656-76ee0aecc597",
   "metadata": {
    "tags": []
   },
   "outputs": [
    {
     "name": "stdout",
     "output_type": "stream",
     "text": [
      "+-------+----------+\n",
      "|   name|experience|\n",
      "+-------+----------+\n",
      "| Sajjad|         2|\n",
      "|  Allen|         3|\n",
      "| Nikhil|         1|\n",
      "|Abhinav|         3|\n",
      "+-------+----------+\n",
      "\n"
     ]
    }
   ],
   "source": [
    "df_pyspark.filter('salary<=20000').select(['name', 'experience']).show()"
   ]
  },
  {
   "cell_type": "code",
   "execution_count": 9,
   "id": "7a192878-e741-48bb-93bd-fb7eaade3c49",
   "metadata": {
    "tags": []
   },
   "outputs": [
    {
     "name": "stdout",
     "output_type": "stream",
     "text": [
      "+-------+---+----------+------+\n",
      "|   name|age|experience|salary|\n",
      "+-------+---+----------+------+\n",
      "| Sajjad| 23|         2| 20000|\n",
      "|  Allen| 23|         3| 20000|\n",
      "|Abhinav| 26|         3| 18000|\n",
      "+-------+---+----------+------+\n",
      "\n"
     ]
    }
   ],
   "source": [
    "df_pyspark.filter((df_pyspark['salary']<=20000) & \n",
    "                  (df_pyspark['salary']>15000)).show()"
   ]
  },
  {
   "cell_type": "markdown",
   "id": "fd599bd4-cd6b-4891-8181-d843d3c7bbcb",
   "metadata": {},
   "source": [
    "### not operator"
   ]
  },
  {
   "cell_type": "code",
   "execution_count": 10,
   "id": "011cd57b-fe5c-42ed-9945-1bd329878f7b",
   "metadata": {
    "tags": []
   },
   "outputs": [
    {
     "name": "stdout",
     "output_type": "stream",
     "text": [
      "+-------+----+----------+------+\n",
      "|   name| age|experience|salary|\n",
      "+-------+----+----------+------+\n",
      "|   Jijo|  25|         4| 30000|\n",
      "|Adharsh|  25|         5| 25000|\n",
      "| Deepak|null|      null| 40000|\n",
      "|   null|  34|        10| 38000|\n",
      "+-------+----+----------+------+\n",
      "\n"
     ]
    }
   ],
   "source": [
    "df_pyspark.filter(~(df_pyspark['salary']<=20000)).show()"
   ]
  },
  {
   "cell_type": "code",
   "execution_count": null,
   "id": "198e0933-e7fc-4acc-a6d8-b7a138dc7600",
   "metadata": {},
   "outputs": [],
   "source": []
  }
 ],
 "metadata": {
  "kernelspec": {
   "display_name": "Python 3 (ipykernel)",
   "language": "python",
   "name": "python3"
  },
  "language_info": {
   "codemirror_mode": {
    "name": "ipython",
    "version": 3
   },
   "file_extension": ".py",
   "mimetype": "text/x-python",
   "name": "python",
   "nbconvert_exporter": "python",
   "pygments_lexer": "ipython3",
   "version": "3.11.2"
  }
 },
 "nbformat": 4,
 "nbformat_minor": 5
}
