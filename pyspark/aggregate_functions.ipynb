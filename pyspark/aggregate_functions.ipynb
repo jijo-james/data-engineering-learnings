{
 "cells": [
  {
   "cell_type": "markdown",
   "id": "820abc7f-fad4-47e2-a7d8-dba5a40b18b5",
   "metadata": {
    "tags": []
   },
   "source": [
    "# Groupby and Aggregate fns"
   ]
  },
  {
   "cell_type": "code",
   "execution_count": 3,
   "id": "90ce8523-6c8d-49d7-b7a0-07d86a571b3c",
   "metadata": {
    "tags": []
   },
   "outputs": [],
   "source": [
    "from pyspark.sql import SparkSession"
   ]
  },
  {
   "cell_type": "code",
   "execution_count": 5,
   "id": "3b596745-ba30-410a-95c0-a02bc64775e2",
   "metadata": {
    "tags": []
   },
   "outputs": [],
   "source": [
    "spark = SparkSession.builder.appName('Aggregate').getOrCreate()"
   ]
  },
  {
   "cell_type": "code",
   "execution_count": 10,
   "id": "04e9d9e8-5bf0-4284-abfd-16b44a56c8c2",
   "metadata": {
    "tags": []
   },
   "outputs": [],
   "source": [
    "df_pyspark = spark.read.csv('data/test3.csv', header=True, inferSchema=True)"
   ]
  },
  {
   "cell_type": "code",
   "execution_count": 11,
   "id": "e8a04734-7ca2-45df-b70b-879e8a4a9ec6",
   "metadata": {
    "tags": []
   },
   "outputs": [
    {
     "name": "stdout",
     "output_type": "stream",
     "text": [
      "+------+------------------+------+\n",
      "|  Name|       Departments|salary|\n",
      "+------+------------------+------+\n",
      "|Nikhil|      Data Science| 10000|\n",
      "| Allen|        Full Stack|  5000|\n",
      "|  Jijo|      Data Science|  4000|\n",
      "|Nikhil|         Front End|  4000|\n",
      "| Allen|    Product Design|  3000|\n",
      "|  Jijo|Product Management| 20000|\n",
      "| Allen|  Embedded Systems| 10000|\n",
      "|Nikhil|         Front End|  5000|\n",
      "|  Jijo|          Back End| 10000|\n",
      "|  Jijo|Automation Testing|  2000|\n",
      "+------+------------------+------+\n",
      "\n"
     ]
    }
   ],
   "source": [
    "df_pysark.show()"
   ]
  },
  {
   "cell_type": "code",
   "execution_count": 12,
   "id": "d0a28c02-e9aa-4853-a7d1-551485179c67",
   "metadata": {
    "tags": []
   },
   "outputs": [
    {
     "name": "stdout",
     "output_type": "stream",
     "text": [
      "root\n",
      " |-- Name: string (nullable = true)\n",
      " |-- Departments: string (nullable = true)\n",
      " |-- salary: integer (nullable = true)\n",
      "\n"
     ]
    }
   ],
   "source": [
    "df_pyspark.printSchema()"
   ]
  },
  {
   "cell_type": "markdown",
   "id": "dda891cf-a2ec-4f28-86d7-75cf85319573",
   "metadata": {},
   "source": [
    "### Groupby"
   ]
  },
  {
   "cell_type": "code",
   "execution_count": 13,
   "id": "71f7ad04-a78e-4286-9095-0a8cee7ddf80",
   "metadata": {
    "tags": []
   },
   "outputs": [
    {
     "name": "stdout",
     "output_type": "stream",
     "text": [
      "+------+-----------+\n",
      "|  name|sum(salary)|\n",
      "+------+-----------+\n",
      "| Allen|      18000|\n",
      "|  Jijo|      36000|\n",
      "|Nikhil|      19000|\n",
      "+------+-----------+\n",
      "\n"
     ]
    }
   ],
   "source": [
    "df_pyspark.groupBy('name').sum().show()"
   ]
  },
  {
   "cell_type": "code",
   "execution_count": 14,
   "id": "6ad043ef-104d-44f4-a027-a1eabbe9ab4f",
   "metadata": {
    "tags": []
   },
   "outputs": [
    {
     "name": "stdout",
     "output_type": "stream",
     "text": [
      "+------------------+-----------+\n",
      "|       Departments|sum(salary)|\n",
      "+------------------+-----------+\n",
      "|Product Management|      20000|\n",
      "|         Front End|       9000|\n",
      "|        Full Stack|       5000|\n",
      "|    Product Design|       3000|\n",
      "|          Back End|      10000|\n",
      "|  Embedded Systems|      10000|\n",
      "|Automation Testing|       2000|\n",
      "|      Data Science|      14000|\n",
      "+------------------+-----------+\n",
      "\n"
     ]
    }
   ],
   "source": [
    "df_pyspark.groupBy('Departments').sum().show()"
   ]
  },
  {
   "cell_type": "code",
   "execution_count": 15,
   "id": "f5b09d94-7853-46f0-b9ec-796687552ef7",
   "metadata": {
    "tags": []
   },
   "outputs": [
    {
     "name": "stdout",
     "output_type": "stream",
     "text": [
      "+------------------+-----------+\n",
      "|       Departments|avg(salary)|\n",
      "+------------------+-----------+\n",
      "|Product Management|    20000.0|\n",
      "|         Front End|     4500.0|\n",
      "|        Full Stack|     5000.0|\n",
      "|    Product Design|     3000.0|\n",
      "|          Back End|    10000.0|\n",
      "|  Embedded Systems|    10000.0|\n",
      "|Automation Testing|     2000.0|\n",
      "|      Data Science|     7000.0|\n",
      "+------------------+-----------+\n",
      "\n"
     ]
    }
   ],
   "source": [
    "df_pyspark.groupBy('Departments').mean().show()"
   ]
  },
  {
   "cell_type": "code",
   "execution_count": 16,
   "id": "96a4806b-c6c9-4c3d-b933-b56dfb2e6b7f",
   "metadata": {
    "tags": []
   },
   "outputs": [
    {
     "name": "stdout",
     "output_type": "stream",
     "text": [
      "+------------------+-----+\n",
      "|       Departments|count|\n",
      "+------------------+-----+\n",
      "|Product Management|    1|\n",
      "|         Front End|    2|\n",
      "|        Full Stack|    1|\n",
      "|    Product Design|    1|\n",
      "|          Back End|    1|\n",
      "|  Embedded Systems|    1|\n",
      "|Automation Testing|    1|\n",
      "|      Data Science|    2|\n",
      "+------------------+-----+\n",
      "\n"
     ]
    }
   ],
   "source": [
    "df_pyspark.groupBy('Departments').count().show()"
   ]
  },
  {
   "cell_type": "code",
   "execution_count": 17,
   "id": "9d654159-f9ac-4876-8566-c71cd12fe1bb",
   "metadata": {
    "tags": []
   },
   "outputs": [
    {
     "name": "stdout",
     "output_type": "stream",
     "text": [
      "+-----------+\n",
      "|sum(salary)|\n",
      "+-----------+\n",
      "|      73000|\n",
      "+-----------+\n",
      "\n"
     ]
    }
   ],
   "source": [
    "df_pyspark.agg({'salary':'sum'}).show()"
   ]
  },
  {
   "cell_type": "code",
   "execution_count": 18,
   "id": "009c1c3d-5975-4fa7-be53-3d4211e45cff",
   "metadata": {
    "tags": []
   },
   "outputs": [
    {
     "name": "stdout",
     "output_type": "stream",
     "text": [
      "+------+-----------+\n",
      "|  name|max(salary)|\n",
      "+------+-----------+\n",
      "| Allen|      10000|\n",
      "|  Jijo|      20000|\n",
      "|Nikhil|      10000|\n",
      "+------+-----------+\n",
      "\n"
     ]
    }
   ],
   "source": [
    "df_pyspark.groupBy('name').max().show()"
   ]
  },
  {
   "cell_type": "code",
   "execution_count": 19,
   "id": "c6c6fbcf-788b-45cb-a8f9-dc98c3b026e9",
   "metadata": {
    "tags": []
   },
   "outputs": [
    {
     "name": "stdout",
     "output_type": "stream",
     "text": [
      "+------+-----------+\n",
      "|  name|min(salary)|\n",
      "+------+-----------+\n",
      "| Allen|       3000|\n",
      "|  Jijo|       2000|\n",
      "|Nikhil|       4000|\n",
      "+------+-----------+\n",
      "\n"
     ]
    }
   ],
   "source": [
    "df_pyspark.groupBy('name').min().show()"
   ]
  },
  {
   "cell_type": "code",
   "execution_count": 20,
   "id": "dbe53c46-b54f-4328-a6b5-8995ec49c2b9",
   "metadata": {
    "tags": []
   },
   "outputs": [
    {
     "name": "stdout",
     "output_type": "stream",
     "text": [
      "+------+-----------------+\n",
      "|  name|      avg(salary)|\n",
      "+------+-----------------+\n",
      "| Allen|           6000.0|\n",
      "|  Jijo|           9000.0|\n",
      "|Nikhil|6333.333333333333|\n",
      "+------+-----------------+\n",
      "\n"
     ]
    }
   ],
   "source": [
    "df_pyspark.groupBy('name').avg().show()"
   ]
  },
  {
   "cell_type": "code",
   "execution_count": null,
   "id": "fc6c2c72-051e-4522-8376-4b58859be093",
   "metadata": {},
   "outputs": [],
   "source": []
  }
 ],
 "metadata": {
  "kernelspec": {
   "display_name": "Python 3 (ipykernel)",
   "language": "python",
   "name": "python3"
  },
  "language_info": {
   "codemirror_mode": {
    "name": "ipython",
    "version": 3
   },
   "file_extension": ".py",
   "mimetype": "text/x-python",
   "name": "python",
   "nbconvert_exporter": "python",
   "pygments_lexer": "ipython3",
   "version": "3.11.2"
  }
 },
 "nbformat": 4,
 "nbformat_minor": 5
}
